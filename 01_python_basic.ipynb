{
 "cells": [
  {
   "cell_type": "markdown",
   "metadata": {},
   "source": [
    "# 파이썬이란 ?\n",
    "\n",
    " 파이썬을 배워서 무엇을 할 수 있을까?\n",
    "- 데이터를 쉽게 모을 수 있다.\n",
    "\n",
    "상권분석을 하려면 유동인구 조사를 해야 하는데, 데이터가 없었다...\n",
    "\n",
    "-> 강남역과 홍대 입구에 아르바이트 세워서 하루종일 유동인구 조사 해야 한다...\n",
    "\n",
    "-> 그런데 이를 파이썬으로 쉽게 구현할 수 있다. objcet detection를 쓰면 된다. (youtube)\n",
    "\n",
    "-> 또한 파이썬의 웹 스크롤링도 매우 좋다!\n",
    "\n",
    "-> 파이썬으로 딥러닝 신경망을 구현할 수 있다. (정상 폐 vs 폐 결절 분류)"
   ]
  },
  {
   "cell_type": "markdown",
   "metadata": {},
   "source": [
    "## 파이썬 모드 3가지\n",
    "1. 대화식 모드\n",
    "2. 배치 모드\n",
    "3. 텍스트 에디터로 프로그래밍 하기"
   ]
  },
  {
   "cell_type": "markdown",
   "metadata": {},
   "source": [
    "# python의 변수\n",
    "\n",
    "1. 파이썬의 변수 이름에는 다음 문자만 사용가능하다.\n",
    "\t- 소문자(a~z)\n",
    "\t- 대문자(A~Z)\n",
    "\t- 숫자(0~9)\n",
    "\t- 언더 스코어(_)\n",
    "2. 변수 이름은 숫자로 시작할 수 없다.\n",
    "3. 예약어를 사용할 수 없다."
   ]
  },
  {
   "cell_type": "markdown",
   "metadata": {},
   "source": [
    "<hr/>\n",
    "\n",
    "##### <문제 1> 문자형 변수를 만들고 type을 확인해 보시오."
   ]
  },
  {
   "cell_type": "code",
   "execution_count": 3,
   "metadata": {},
   "outputs": [
    {
     "name": "stdout",
     "output_type": "stream",
     "text": [
      "aaa\n<class 'str'>\n"
     ]
    }
   ],
   "source": [
    "b=\"aaa\"\n",
    "print(b)\n",
    "print(type(b))"
   ]
  },
  {
   "cell_type": "markdown",
   "metadata": {},
   "source": [
    "##### <예제> 다음을 실행하고 결과를 보시오."
   ]
  },
  {
   "cell_type": "code",
   "execution_count": 4,
   "metadata": {},
   "outputs": [
    {
     "name": "stdout",
     "output_type": "stream",
     "text": [
      "[1000, 2000, 3000, 4000]\n<class 'list'>\n"
     ]
    }
   ],
   "source": [
    "d = [1000, 2000, 3000, 4000]\n",
    "print(d)\n",
    "print(type(d))"
   ]
  },
  {
   "cell_type": "markdown",
   "metadata": {},
   "source": [
    "<hr/>\n",
    "\n",
    "##### <문제 2> d로 만든 리스트 변수에서 숫자 1000을 출력하시오."
   ]
  },
  {
   "cell_type": "code",
   "execution_count": 8,
   "metadata": {
    "collapsed": false
   },
   "outputs": [
    {
     "name": "stdout",
     "output_type": "stream",
     "text": [
      "1000\n"
     ]
    }
   ],
   "source": [
    "print(d[0])\n",
    "\n",
    "# 1000 2000 3000 4000\n",
    "#   0    1    2    3\n",
    "\n",
    "# 위와 같이 주소가 들어간다. 파이썬은 시작을 0부터 시작한다. R은 1부터 시작했다."
   ]
  },
  {
   "cell_type": "markdown",
   "metadata": {},
   "source": [
    "<hr/>\n",
    "\n",
    "##### <문제 3> d list 변수 안에 있는 요소들을 하나씩 다 출력 하시오."
   ]
  },
  {
   "cell_type": "code",
   "execution_count": 6,
   "metadata": {},
   "outputs": [
    {
     "name": "stdout",
     "output_type": "stream",
     "text": [
      "1000\n2000\n3000\n4000\n"
     ]
    }
   ],
   "source": [
    "for i in d:\n",
    "    print(i)"
   ]
  },
  {
   "cell_type": "markdown",
   "metadata": {},
   "source": [
    "<hr/>\n",
    "\n",
    "##### <예제> 다음을 실행하고 결과를 보시오."
   ]
  },
  {
   "cell_type": "code",
   "execution_count": 11,
   "metadata": {},
   "outputs": [
    {
     "name": "stdout",
     "output_type": "stream",
     "text": [
      "0\n1\n2\n3\n4\n5\n6\n7\n8\n9\n"
     ]
    }
   ],
   "source": [
    "for i in range(10) :\n",
    "    print(i)\n",
    "    \n",
    "# 실행해 보면 알겠지만 9까지 나온다. 이유는 0부터 시작되었기 때문이다."
   ]
  },
  {
   "cell_type": "markdown",
   "metadata": {},
   "source": [
    "<hr/>\n",
    "<hr/>\n",
    "# 변수에 값 대입 하기\n",
    "파이썬에서는 변수에 값을 대입할 때\n",
    "= (ASSIGNMENT) 기호를 사용한다.\n",
    "\n",
    "### 파이썬의 코드는 심플함을 철학으로 삼고 있다!\n"
   ]
  },
  {
   "cell_type": "markdown",
   "metadata": {},
   "source": [
    "##### <예제> 파이썬의 기본 철학을 확인해 보자."
   ]
  },
  {
   "cell_type": "code",
   "execution_count": 13,
   "metadata": {},
   "outputs": [
    {
     "name": "stdout",
     "output_type": "stream",
     "text": [
      "The Zen of Python, by Tim Peters\n\nBeautiful is better than ugly.\nExplicit is better than implicit.\nSimple is better than complex.\nComplex is better than complicated.\nFlat is better than nested.\nSparse is better than dense.\nReadability counts.\nSpecial cases aren't special enough to break the rules.\nAlthough practicality beats purity.\nErrors should never pass silently.\nUnless explicitly silenced.\nIn the face of ambiguity, refuse the temptation to guess.\nThere should be one-- and preferably only one --obvious way to do it.\nAlthough that way may not be obvious at first unless you're Dutch.\nNow is better than never.\nAlthough never is often better than *right* now.\nIf the implementation is hard to explain, it's a bad idea.\nIf the implementation is easy to explain, it may be a good idea.\nNamespaces are one honking great idea -- let's do more of those!\n"
     ]
    }
   ],
   "source": [
    "import this"
   ]
  },
  {
   "cell_type": "markdown",
   "metadata": {},
   "source": [
    "### 객체란 ?\n",
    "-> 우리가 지금까지 보아왔던 자료형을 포함해 \"파이썬에서 사용되는 모든 것\"\n",
    "\n",
    "a=3\n",
    "\n",
    "3이라는 값을 가지는 정수형 자료형이 자동으로 메모리에 생성이 되고 a는 변수이름이고 3이라는 객체가 \n",
    "저장된 메로리에 저장된 위치를 가리키는 것이다.\n",
    "\n",
    "a ------------------------> 3\n",
    "                            ↑ 정수형 객체\n",
    "           변수 a는 객체가 저장된 메모리의 위치를 가리키는 레퍼런스라고 할 수 있다.\n",
    "\n",
    "좌변은 변수, 우변은 객체가 생성되는 것이다. 하나의 객체를 가리키는 변수는 많을 수 있다.\n",
    "하지만 본체(객체)는 하나 인 것이다."
   ]
  },
  {
   "cell_type": "markdown",
   "metadata": {},
   "source": [
    "##### <예제> 위의 이론을 설명하는 다음을 실행해 보자."
   ]
  },
  {
   "cell_type": "code",
   "execution_count": 28,
   "metadata": {},
   "outputs": [
    {
     "data": {
      "text/plain": [
       "True"
      ]
     },
     "execution_count": 28,
     "metadata": {},
     "output_type": "execute_result"
    }
   ],
   "source": [
    "a=3\n",
    "b=3\n",
    "a is b\n",
    "\n",
    "# true라고 나온다. a가 3을 가리키고 있고 b도 3을 가리키고 있다.\n",
    "# 즉 3을 가리키는 변수는 2개가 있는 것이다."
   ]
  },
  {
   "cell_type": "markdown",
   "metadata": {},
   "source": [
    "<hr/>\n",
    "\n",
    "##### <문제 4> a와 b는 정말 같은 객체를 가리키는 것인가 확인해 보라."
   ]
  },
  {
   "cell_type": "code",
   "execution_count": 27,
   "metadata": {},
   "outputs": [
    {
     "data": {
      "text/plain": [
       "494"
      ]
     },
     "execution_count": 27,
     "metadata": {},
     "output_type": "execute_result"
    }
   ],
   "source": [
    "a=3\n",
    "b=3\n",
    "\n",
    "import sys\n",
    "sys.getrefcount(3)\n",
    "\n",
    "# 3이라는 객체를 가리키는 변수가 n개 있다고 나온다."
   ]
  },
  {
   "cell_type": "markdown",
   "metadata": {},
   "source": [
    "## <특정 객체를 가리키는 변수를 없애는 작업>\n",
    "\n",
    "del( 변수명 )\n",
    "sys.getrefcount( 변수명 )\n",
    "\n",
    "사용한 변수를 del 명령어를 이용해서 일일이 삭제할 필요는 없다. 파이썬이 모든것을 자동으로 해준다."
   ]
  },
  {
   "cell_type": "markdown",
   "metadata": {},
   "source": [
    "<hr/>\n",
    "<hr/>\n",
    "# 주석 처리하기(#)\n",
    "프로그램에서 코멘트는 인터프리터에 의해 무시되는 텍스트의 한 부분이다. \n",
    "코드를 설명하거나 나중에 어떤 문제를 고치기 위해 표시하는 등 \n",
    "다양한 목적으로 코멘트를 사용할 수 있다.\n",
    "\n",
    "주석 처리 문법\n",
    "\n",
    "1. 그냥 # 표시\n",
    "2. 라인을 유지하면서 다음 줄에 쓰고 싶을 때 : \\\n",
    "3. 여러행을 주석 처리 : \"\"\" (영어만 먹힌다...)\n",
    "\n",
    " # -*- coding: utf-8 -*-\n",
    "이걸 써주면 한글도 주석 처리 된다."
   ]
  },
  {
   "cell_type": "markdown",
   "metadata": {},
   "source": [
    "<hr/>\n",
    "<hr/>\n",
    "# 자료형 개념 배우기\n",
    "자료형이란?\n",
    "-> 프로그래밍을 할 때 쓰이는 숫자, 문자열 등 자료 형태로 사용하는 모든 것을 뜻한다."
   ]
  },
  {
   "cell_type": "markdown",
   "metadata": {},
   "source": [
    "### 파이썬의 자료형\n",
    "\n",
    "1. 숫자\n",
    "\n",
    "2. 문자\n",
    "\n",
    "3. 리스트 : 데이터의 목록을 다루는 자료형. 대괄호를 쓴다.\n",
    "\n",
    "ex ) d=[1,2,3]\n",
    "d[0]=5\n",
    "d\n",
    "\n",
    "[5, 2, 3] 이 출력된다.\n",
    "\n",
    "4. 튜플 : 데이터의 목록을 다루지만, 리스트와는 다르게 변경이 불가능하다. 소괄호를 쓴다.\n",
    "\n",
    "ex) f = (1,2,3)\n",
    "f(0)=5\n",
    "\n",
    "에러가 난다. 이런건 언제 쓰는가? 변경이 안되어야 하는 데이터를 만들 때 사용한다. \n",
    "\n",
    "5. 딕셔너리 : key와 value를 종합해서 사용하는 자료형 중괄호를 쓴다.\n",
    "ex)  m = { }\n",
    "m['python']= 'www.python.org'\n",
    "        ↑                              ↑\n",
    "      인덱스, 키                값\n",
    "m\n",
    "m.keys()\n",
    "m.values()\n",
    "\n",
    "6. 집합 자료형(set)\n",
    "리스트 데이터 집합의 교집합, 합집합, 차집합을 출력할 때 유용하게 사용되는 자료형\n",
    "\n",
    "s1 = set([1,2,3,4,5,6])\n",
    "s2 = set([4,5,6,7,8,9])\n",
    "s1 & s2 #교집합\n",
    "s1  | s2 #합집합\n",
    "s1 - s2 #차집합"
   ]
  },
  {
   "cell_type": "markdown",
   "metadata": {},
   "source": [
    "<hr/>\n",
    "<hr/>\n",
    "# 자료형 출력 개념 배우기 (print)\n",
    "\"변수의 값을 출력\""
   ]
  },
  {
   "cell_type": "markdown",
   "metadata": {},
   "source": [
    "##### <예제> 다음을 실행하시오."
   ]
  },
  {
   "cell_type": "code",
   "execution_count": 17,
   "metadata": {},
   "outputs": [
    {
     "name": "stdout",
     "output_type": "stream",
     "text": [
      "[1000, 2000, 3000]\n1000\n2000\n3000\n"
     ]
    }
   ],
   "source": [
    "d=[1000, 2000, 3000]\n",
    "print(d)\n",
    "\n",
    "for i in d :\n",
    "    print(i)\n",
    "\n",
    "# 세미콜론 해주는 것 항상 조심."
   ]
  },
  {
   "cell_type": "markdown",
   "metadata": {},
   "source": [
    "<hr/>\n",
    "\n",
    "##### <문제 5> emp2.csv를 파이썬으로 로드해서 print하시오."
   ]
  },
  {
   "cell_type": "code",
   "execution_count": 25,
   "metadata": {},
   "outputs": [
    {
     "name": "stdout",
     "output_type": "stream",
     "text": [
      "['7839', 'KING', 'PRESIDENT', '0', '1981-11-17', '5000', '0', '10']\n['7698', 'BLAKE', 'MANAGER', '7839', '1981-05-01', '2850', '0', '30']\n['7782', 'CLARK', 'MANAGER', '7839', '1981-05-09', '2450', '0', '10']\n['7566', 'JONES', 'MANAGER', '7839', '1981-04-01', '2975', '0', '20']\n['7654', 'MARTIN', 'SALESMAN', '7698', '1981-09-10', '1250', '1400', '30']\n['7499', 'ALLEN', 'SALESMAN', '7698', '1981-02-11', '1600', '300', '30']\n['7844', 'TURNER', 'SALESMAN', '7698', '1981-08-21', '1500', '0', '30']\n['7900', 'JAMES', 'CLERK', '7698', '1981-12-11', '950', '0', '30']\n['7521', 'WARD', 'SALESMAN', '7698', '1981-02-23', '1250', '500', '30']\n['7902', 'FORD', 'ANALYST', '7566', '1981-12-11', '3000', '0', '20']\n['7369', 'SMITH', 'CLERK', '7902', '1980-12-09', '800', '0', '20']\n['7788', 'SCOTT', 'ANALYST', '7566', '1982-12-22', '3000', '0', '20']\n['7876', 'ADAMS', 'CLERK', '7788', '1983-01-15', '1100', '0', '20']\n['7934', 'MILLER', 'CLERK', '7782', '1982-01-11', '1300', '0', '10']\n"
     ]
    }
   ],
   "source": [
    "import csv\n",
    "file = open(\"D:\\Data\\emp2.csv\")\n",
    "emp_csv = csv.reader(file)\n",
    "\n",
    "for emp_list in emp_csv :\n",
    "    print(emp_list)\n",
    "\n",
    "# r이 의미하는건 read이다. 참고로 저렇게 하면 emp_list에 할당이 되는데 emp_list는 리스트 이다."
   ]
  },
  {
   "cell_type": "markdown",
   "metadata": {},
   "source": [
    "<hr/>\n",
    "\n",
    "##### <문제 6> 이름과 월급을 출력하시오."
   ]
  },
  {
   "cell_type": "code",
   "execution_count": 26,
   "metadata": {},
   "outputs": [
    {
     "name": "stdout",
     "output_type": "stream",
     "text": [
      "KING 5000\nBLAKE 2850\nCLARK 2450\nJONES 2975\nMARTIN 1250\nALLEN 1600\nTURNER 1500\nJAMES 950\nWARD 1250\nFORD 3000\nSMITH 800\nSCOTT 3000\nADAMS 1100\nMILLER 1300\n"
     ]
    }
   ],
   "source": [
    "import csv\n",
    "file = open(\"D:\\Data\\emp2.csv\")\n",
    "emp_csv = csv.reader(file)\n",
    "\n",
    "for emp_list in emp_csv :\n",
    "    print( emp_list[1], emp_list[5] )"
   ]
  },
  {
   "cell_type": "markdown",
   "metadata": {},
   "source": [
    "<hr/>\n",
    "<hr/>\n",
    "\n",
    "# 들여쓰기 개념 배우기\n",
    "파이썬이 다른 언어보다 간결한 이유?\n",
    "-> 콜론과 들여쓰기 듀오 때문!"
   ]
  },
  {
   "cell_type": "markdown",
   "metadata": {},
   "source": [
    "##### <예제> 월급이 3000인 사원들의 이름, 월급을 출력하시오."
   ]
  },
  {
   "cell_type": "code",
   "execution_count": 18,
   "metadata": {},
   "outputs": [
    {
     "name": "stdout",
     "output_type": "stream",
     "text": [
      "FORD 3000\nSCOTT 3000\n"
     ]
    }
   ],
   "source": [
    "import csv\n",
    "file = open(\"D:\\Data\\emp2.csv\")\n",
    "emp_csv = csv.reader(file)\n",
    "\n",
    "for emp_list in emp_csv:\n",
    "    if int(emp_list[5])==3000:\n",
    "        print(emp_list[1],emp_list[5])\n",
    "        \n",
    "# 파이썬은 이퀄이 == 2개이다. 그리고 int()는 인티저 형변환이다.\n",
    "# 대괄호 형태의 리스트가 for 문을 돌면서 emp_list에 저장되는 형태이다."
   ]
  },
  {
   "cell_type": "markdown",
   "metadata": {},
   "source": [
    "<hr/>\n",
    "\n",
    "##### <문제 7> 직업이 ANALYST, CLERK인 사원들의 이름, 직업을 출력하시오."
   ]
  },
  {
   "cell_type": "code",
   "execution_count": 20,
   "metadata": {},
   "outputs": [
    {
     "name": "stdout",
     "output_type": "stream",
     "text": [
      "JAMES CLERK\nFORD ANALYST\nSMITH CLERK\nSCOTT ANALYST\nADAMS CLERK\nMILLER CLERK\n"
     ]
    }
   ],
   "source": [
    "import csv\n",
    "file = open(\"D:\\Data\\emp2.csv\")\n",
    "emp_csv = csv.reader(file)\n",
    "\n",
    "for emp_list in emp_csv:\n",
    "    if emp_list[2]=='ANALYST' or emp_list[2]=='CLERK':\n",
    "        print(emp_list[1],emp_list[2])\n",
    "\n",
    "#───────────────\n",
    "\n",
    "for emp_list in emp_csv:\n",
    "    if emp_list[2] in ('ANALYST','CLERK'):\n",
    "        print(emp_list[1],emp_list[2])\n"
   ]
  },
  {
   "cell_type": "markdown",
   "metadata": {},
   "source": [
    "<hr/>\n",
    "\n",
    "##### <문제 8> 부서번호가 10번인 사원들의 이름, 월급, 부서번호를 출력하시오."
   ]
  },
  {
   "cell_type": "code",
   "execution_count": 22,
   "metadata": {},
   "outputs": [
    {
     "name": "stdout",
     "output_type": "stream",
     "text": [
      "KING 5000 10\nCLARK 2450 10\nMILLER 1300 10\n"
     ]
    }
   ],
   "source": [
    "import csv\n",
    "file = open(\"D:\\Data\\emp2.csv\")\n",
    "emp_csv = csv.reader(file)\n",
    "\n",
    "for emp_list in emp_csv:\n",
    "    if int(emp_list[7])==10:\n",
    "        print(emp_list[1],emp_list[5],emp_list[7])"
   ]
  }
 ],
 "metadata": {
  "kernelspec": {
   "display_name": "Python 2",
   "language": "python",
   "name": "python2"
  },
  "language_info": {
   "codemirror_mode": {
    "name": "ipython",
    "version": 2
   },
   "file_extension": ".py",
   "mimetype": "text/x-python",
   "name": "python",
   "nbconvert_exporter": "python",
   "pygments_lexer": "ipython2",
   "version": "2.7.6"
  }
 },
 "nbformat": 4,
 "nbformat_minor": 0
}
