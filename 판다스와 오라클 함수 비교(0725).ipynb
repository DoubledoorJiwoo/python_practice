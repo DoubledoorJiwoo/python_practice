{
 "cells": [
  {
   "cell_type": "markdown",
   "metadata": {},
   "source": [
    "##### 문제 193.\n",
    "직업, 직업별 최대 월급을 출력\n",
    "SQL )\n",
    "    select job, max(sal)\n",
    "    from emp\n",
    "    group by job;"
   ]
  },
  {
   "cell_type": "code",
   "execution_count": 1,
   "metadata": {},
   "outputs": [
    {
     "name": "stdout",
     "output_type": "stream",
     "text": [
      "job\n",
      "ANALYST      3000\n",
      "CLERK        1300\n",
      "MANAGER      2975\n",
      "PRESIDENT    5000\n",
      "SALESMAN     1600\n",
      "Name: sal, dtype: int64\n"
     ]
    }
   ],
   "source": [
    "import pandas as pd\n",
    "emp = pd.read_csv('D:\\\\Data\\\\emp.csv')\n",
    "print( emp.groupby('job')['sal'].max())"
   ]
  },
  {
   "cell_type": "markdown",
   "metadata": {},
   "source": [
    "##### 문제194.\n",
    "부서번호, 직업, 부서번호별 직업별 토탈웕브을 출력"
   ]
  },
  {
   "cell_type": "code",
   "execution_count": 4,
   "metadata": {},
   "outputs": [
    {
     "name": "stdout",
     "output_type": "stream",
     "text": [
      "job        deptno\n",
      "ANALYST    20        6000\n",
      "CLERK      10        1300\n",
      "           20        1900\n",
      "           30         950\n",
      "MANAGER    10        2450\n",
      "           20        2975\n",
      "           30        2850\n",
      "PRESIDENT  10        5000\n",
      "SALESMAN   30        5600\n",
      "Name: sal, dtype: int64\n"
     ]
    }
   ],
   "source": [
    "import pandas as pd\n",
    "emp = pd.read_csv('D:\\\\Data\\\\emp.csv')\n",
    "print( emp.groupby(['job','deptno'])['sal'].sum())"
   ]
  },
  {
   "cell_type": "markdown",
   "metadata": {},
   "source": [
    "##### 문제 195.\n",
    "직업, 직업별 토탈월급을 출력하는데 직업이 SALESMAN은 제외하고 출력하고\n",
    "직업별 토탈월급이 6000 이상인 것만 출력"
   ]
  },
  {
   "cell_type": "code",
   "execution_count": 26,
   "metadata": {},
   "outputs": [
    {
     "name": "stdout",
     "output_type": "stream",
     "text": [
      "job\n",
      "ANALYST    6000\n",
      "MANAGER    8275\n",
      "Name: sal, dtype: int64\n"
     ]
    }
   ],
   "source": [
    "import pandas as pd\n",
    "emp = pd.read_csv('D:\\\\Data\\\\emp.csv')\n",
    "emp = emp[:][emp['job'] != 'SALESMAN']\n",
    "emp_sal = emp.groupby('job')['sal'].sum()\n",
    "result = emp_sal >= 6000\n",
    "print(emp_sal[result == True])"
   ]
  },
  {
   "cell_type": "markdown",
   "metadata": {},
   "source": [
    "## 판다스와 오라클 데이터 분석 함수 비교\n",
    "(순위)"
   ]
  },
  {
   "cell_type": "markdown",
   "metadata": {},
   "source": [
    "##### 문제 196.\n",
    "이름, 월급, 순위를 출력"
   ]
  },
  {
   "cell_type": "code",
   "execution_count": 32,
   "metadata": {},
   "outputs": [
    {
     "name": "stdout",
     "output_type": "stream",
     "text": [
      "     ename   sal  rnk\n",
      "0     KING  5000    1\n",
      "9     FORD  3000    2\n",
      "11   SCOTT  3000    2\n",
      "3    JONES  2975    4\n",
      "1    BLAKE  2850    5\n",
      "2    CLARK  2450    6\n",
      "5    ALLEN  1600    7\n",
      "6   TURNER  1500    8\n",
      "13  MILLER  1300    9\n",
      "4   MARTIN  1250   10\n",
      "8     WARD  1250   10\n",
      "12   ADAMS  1100   12\n",
      "7    JAMES   950   13\n",
      "10   SMITH   800   14\n"
     ]
    }
   ],
   "source": [
    "import pandas as pd\n",
    "emp = pd.read_csv('D:\\\\Data\\emp.csv')\n",
    "emp['rnk'] = emp['sal'].rank(ascending = 0).apply(int)\n",
    "#emp['rnk'] = emp['sal'].rank(ascending = False).apply(int)\n",
    "emp = emp.sort_values('rnk',ascending = 1)\n",
    "print(emp[['ename','sal','rnk']])"
   ]
  },
  {
   "cell_type": "markdown",
   "metadata": {},
   "source": [
    "##### 문제 197.\n",
    "직업, 직업별 토탈월급, 순위를 출력\n",
    "순위는 직업별 토탈월급이 높은순으로 출력"
   ]
  },
  {
   "cell_type": "code",
   "execution_count": 64,
   "metadata": {},
   "outputs": [
    {
     "name": "stdout",
     "output_type": "stream",
     "text": [
      "Index(['ANALYST', 'CLERK', 'MANAGER', 'PRESIDENT', 'SALESMAN'], dtype='object', name='job')\n"
     ]
    }
   ],
   "source": [
    "import pandas as pd\n",
    "emp = pd.read_csv('D:\\\\Data\\\\emp.csv')\n",
    "emp['rnk'] = emp['sal'].rank(ascending = 0).apply(int)\n",
    "\n",
    "emp_group = emp.groupby(['job'])['sal'].sum().values\n",
    "emp_group = emp.groupby(['job'])['sal'].sum()\n",
    "\n",
    "print(emp_group)"
   ]
  },
  {
   "cell_type": "code",
   "execution_count": 69,
   "metadata": {},
   "outputs": [
    {
     "name": "stdout",
     "output_type": "stream",
     "text": [
      "            sal  rnk\n",
      "job                 \n",
      "MANAGER    8275    1\n",
      "ANALYST    6000    2\n",
      "SALESMAN   5600    3\n",
      "PRESIDENT  5000    4\n",
      "CLERK      4150    5\n"
     ]
    }
   ],
   "source": [
    "import pandas as pd\n",
    "\n",
    "emp = pd.read_csv(\"D:\\\\Data\\\\emp.csv\")\n",
    "emp = emp.groupby('job')['sal'].sum()\n",
    "emp = pd.DataFrame(emp)# emp를 dateframe으로 변환\n",
    "emp['rnk'] = emp['sal'].rank(ascending = 0).apply(int)\n",
    "emp = emp.sort_values('rnk', ascending = True)           # rnk 를 정렬\n",
    "print(emp)"
   ]
  },
  {
   "cell_type": "code",
   "execution_count": null,
   "metadata": {},
   "outputs": [],
   "source": []
  }
 ],
 "metadata": {
  "kernelspec": {
   "display_name": "Python 3",
   "language": "python",
   "name": "python3"
  },
  "language_info": {
   "codemirror_mode": {
    "name": "ipython",
    "version": 3
   },
   "file_extension": ".py",
   "mimetype": "text/x-python",
   "name": "python",
   "nbconvert_exporter": "python",
   "pygments_lexer": "ipython3",
   "version": "3.6.4"
  }
 },
 "nbformat": 4,
 "nbformat_minor": 2
}
